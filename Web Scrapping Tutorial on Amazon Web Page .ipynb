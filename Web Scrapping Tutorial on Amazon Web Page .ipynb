{
 "cells": [
  {
   "cell_type": "markdown",
   "metadata": {},
   "source": [
    "# Web Scrapping"
   ]
  },
  {
   "cell_type": "markdown",
   "metadata": {},
   "source": [
    "## Summary\n",
    "This a tutorial on web scraping in Python. \n",
    "\n",
    "In this tutorial, you will be able to scrape data from an amazon web page using the requests, \n",
    "urllib and Beautiful Soup libraries, and export that data into a structured text file csv \n",
    "using the pandas library."
   ]
  },
  {
   "cell_type": "markdown",
   "metadata": {},
   "source": [
    "## Examing the web Page \n",
    "\n",
    "In this tutorial, we'll extract the information in a sale web site 'amazon' and store them in a structured dataset.\n",
    "\n",
    "A technique called 'web scraping' is a useful way to automate this process."
   ]
  },
  {
   "cell_type": "code",
   "execution_count": 126,
   "metadata": {},
   "outputs": [],
   "source": [
    "import pandas as pd\n",
    "from bs4 import BeautifulSoup\n",
    "import requests\n",
    "from urllib.request import urlopen\n",
    "import numpy as np"
   ]
  },
  {
   "cell_type": "code",
   "execution_count": 2,
   "metadata": {},
   "outputs": [],
   "source": [
    "## Url of  the web page i want to work with \n",
    "## web page of Laptops \n",
    "myUrl=\"https://www.amazon.fr/s/ref=nb_sb_noss?__mk_fr_FR=%C3%85M%C3%85%C5%BD%C3%95%C3%91&url=search-alias%3Daps&field-keywords=Laptop\""
   ]
  },
  {
   "cell_type": "markdown",
   "metadata": {},
   "source": [
    "Here's the way amazon presented the products and their informations:"
   ]
  },
  {
   "cell_type": "code",
   "execution_count": 3,
   "metadata": {},
   "outputs": [
    {
     "data": {
      "text/html": [
       "<img src=\"capture.png\",width=60,height=60>\n",
       "products shown in our web page"
      ],
      "text/plain": [
       "<IPython.core.display.HTML object>"
      ]
     },
     "metadata": {},
     "output_type": "display_data"
    }
   ],
   "source": [
    "%%html\n",
    "<img src=\"capture.png\",width=60,height=60>\n",
    "products shown in our web page"
   ]
  },
  {
   "cell_type": "markdown",
   "metadata": {},
   "source": [
    "We can extract the informations of each product into a  **record** with four fields:\n",
    "\n",
    "* The name of the brand.\n",
    "* The name of the product.\n",
    "* the price.\n",
    "* The shipping"
   ]
  },
  {
   "cell_type": "markdown",
   "metadata": {},
   "source": [
    "## Importing Html into python "
   ]
  },
  {
   "cell_type": "markdown",
   "metadata": {},
   "source": [
    "### First method using Request Librabry\n",
    "\n",
    "The first thing we need to do is to read the HTML of our web page into Python, which we'll do using the requests library.\n",
    "* insatallation via :  pip install requests from the command line."
   ]
  },
  {
   "cell_type": "code",
   "execution_count": 11,
   "metadata": {},
   "outputs": [],
   "source": [
    "headers = {\n",
    "    'User-Agent': 'python-requests/2.8.1',\n",
    "    'Content-Type': 'text/html',\n",
    "}\n",
    "\n",
    "request=requests.get(myUrl,headers=headers)"
   ]
  },
  {
   "cell_type": "code",
   "execution_count": 12,
   "metadata": {},
   "outputs": [
    {
     "data": {
      "text/plain": [
       "'\\n<!doctype html><html class=\"a-no-js\" data-19ax5a9jf=\"dingo\"><head><script>var aPageStart = (new Date()).getTime();</script><meta charset=\"utf-8\"><style>\\n[class*=scx-line-clamp-]{overflow:hidden}.scx-offscreen-truncate{position:relative;left:-1000000px}.scx-line-clamp-1{max-height:16.75px}.scx-trunc'"
      ]
     },
     "execution_count": 12,
     "metadata": {},
     "output_type": "execute_result"
    }
   ],
   "source": [
    "## print the first 3 rows of the html page\n",
    "request.text[0:300]"
   ]
  },
  {
   "cell_type": "markdown",
   "metadata": {},
   "source": [
    "### Second Method using Urllin Library\n",
    "\n",
    "Also we can read the HTML of our web page into Python, by using the urllib library. \n",
    "* insatallation via : pip install urllib from the command line."
   ]
  },
  {
   "cell_type": "code",
   "execution_count": 6,
   "metadata": {},
   "outputs": [],
   "source": [
    "## oprn the url page\n",
    "r_urllib=urlopen(myUrl)"
   ]
  },
  {
   "cell_type": "code",
   "execution_count": 7,
   "metadata": {},
   "outputs": [],
   "source": [
    "## print the first 3 rows of the html page\n",
    "request_url=r_urllib.read()"
   ]
  },
  {
   "cell_type": "code",
   "execution_count": 8,
   "metadata": {},
   "outputs": [
    {
     "data": {
      "text/plain": [
       "b'<!doctype html><html class=\"a-no-js\" data-19ax5a9jf=\"dingo\"><head><script>var aPageStart = (new Date()).getTime();</script><meta charset=\"utf-8\"><style>\\n[class*=scx-line-clamp-]{overflow:hidden}.scx-offscreen-truncate{position:relative;left:-1000000px}.scx-line-clamp-1{max-height:16.75px}.scx-trunca'"
      ]
     },
     "execution_count": 8,
     "metadata": {},
     "output_type": "execute_result"
    }
   ],
   "source": [
    "request_url.strip()[0:300]"
   ]
  },
  {
   "cell_type": "code",
   "execution_count": 9,
   "metadata": {},
   "outputs": [],
   "source": [
    "## Close the url page \n",
    "r_urllib.close()"
   ]
  },
  {
   "cell_type": "markdown",
   "metadata": {},
   "source": [
    "### Parsing the HTML using Beautiful Soup Library\n",
    "\n",
    "We're going to parse the HTML using the Beautiful Soup 4 library, which is a popular Python library for web scraping. \n",
    "* installation via : pip install beautifulsoup4 from the command line."
   ]
  },
  {
   "cell_type": "code",
   "execution_count": 13,
   "metadata": {},
   "outputs": [],
   "source": [
    "soup = BeautifulSoup(request.text, 'html.parser')"
   ]
  },
  {
   "cell_type": "markdown",
   "metadata": {},
   "source": [
    "## Collecting the records"
   ]
  },
  {
   "cell_type": "markdown",
   "metadata": {},
   "source": [
    "I have noticed that each record has the following head of format:"
   ]
  },
  {
   "cell_type": "markdown",
   "metadata": {},
   "source": [
    "\n",
    "                        <div class=\"s-item-container\">\n",
    "                            <div class=\"a-row a-spacing-micro\">\n",
    "                                <div class=\"a-row sx-badge-region sx-pinned-top-badge\">\n",
    "                                    <div class=\"a-row a-badge-region\"><a id=\"AMAZONS_CHOICE_B07B5965VG\" href=\"https:/ "
   ]
  },
  {
   "cell_type": "markdown",
   "metadata": {},
   "source": [
    "BeautifulSoup will do the work to find all the records wich has this same format for us "
   ]
  },
  {
   "cell_type": "code",
   "execution_count": 14,
   "metadata": {},
   "outputs": [],
   "source": [
    "products=soup.findAll('div',class_='s-item-container')"
   ]
  },
  {
   "cell_type": "markdown",
   "metadata": {},
   "source": [
    "This will return a **ResultSet** with all the records founded"
   ]
  },
  {
   "cell_type": "markdown",
   "metadata": {},
   "source": [
    "products is an itterable object so we can check its length"
   ]
  },
  {
   "cell_type": "code",
   "execution_count": 15,
   "metadata": {},
   "outputs": [
    {
     "data": {
      "text/plain": [
       "17"
      ]
     },
     "execution_count": 15,
     "metadata": {},
     "output_type": "execute_result"
    }
   ],
   "source": [
    "len(products)"
   ]
  },
  {
   "cell_type": "code",
   "execution_count": 16,
   "metadata": {},
   "outputs": [],
   "source": [
    "first_product=products[0]"
   ]
  },
  {
   "cell_type": "markdown",
   "metadata": {},
   "source": [
    "Let's check the first products "
   ]
  },
  {
   "cell_type": "code",
   "execution_count": 17,
   "metadata": {},
   "outputs": [
    {
     "data": {
      "text/plain": [
       "<div class=\"s-item-container\"><div class=\"a-fixed-left-grid\"><div class=\"a-fixed-left-grid-inner\" style=\"padding-left:218px\"><div class=\"a-fixed-left-grid-col a-col-left\" style=\"width:218px;margin-left:-218px;float:left;\"><div class=\"a-row\"><div aria-hidden=\"true\" class=\"a-column a-span12 a-text-center\"><a class=\"a-link-normal a-text-normal\" href=\"https://www.amazon.fr/Microsoft-Surface-Ordinateur-Portable-i7/dp/B0713RZCBV\"><img alt='Microsoft Surface Laptop Ordinateur Portable 13.5\" tactile (Core i7, RAM 8 Go, SSD 256 Go, Windows 10S) - Platine' class=\"s-access-image cfMarker\" data-search-image-load=\"\" height=\"218\" onload=\"uet('cf');P.when('search-page-utilities').execute(function(spUtils){setTimeout(function(){spUtils.triggerATFEvent(1)}, 0);});\" src=\"https://images-eu.ssl-images-amazon.com/images/I/31hpgf5sykL._AC_US218_.jpg\" srcset=\"https://images-eu.ssl-images-amazon.com/images/I/31hpgf5sykL._AC_US218_.jpg 1x, https://images-eu.ssl-images-amazon.com/images/I/31hpgf5sykL._AC_US327_QL65_.jpg 1.5x, https://images-eu.ssl-images-amazon.com/images/I/31hpgf5sykL._AC_US436_QL65_.jpg 2x, https://images-eu.ssl-images-amazon.com/images/I/31hpgf5sykL._AC_US500_QL65_.jpg 2.2935x\" width=\"218\"/></a><div class=\"a-section a-spacing-none a-text-center\"></div></div></div></div><div class=\"a-fixed-left-grid-col a-col-right\" style=\"padding-left:2%;float:left;\"><div class=\"a-row a-spacing-small\"><div class=\"a-row a-spacing-none scx-truncate-medium sx-line-clamp-2\"><a class=\"a-link-normal s-access-detail-page s-color-twister-title-link a-text-normal\" href=\"https://www.amazon.fr/Microsoft-Surface-Ordinateur-Portable-i7/dp/B0713RZCBV\" title='Microsoft Surface Laptop Ordinateur Portable 13.5\" tactile (Core i7, RAM 8 Go, SSD 256 Go, Windows 10S) - Platine'><h2 class=\"a-size-medium s-inline s-access-title a-text-normal\" data-attribute='Microsoft Surface Laptop Ordinateur Portable 13.5\" tactile (Core i7, RAM 8 Go, SSD 256 Go, Windows 10S) - Platine' data-max-rows=\"2\">Microsoft Surface Laptop Ordinateur Portable 13.5\" tactile (Core i7, RAM 8 Go, SSD 256 Go, Windows 10S) - Platine</h2></a></div><div class=\"a-row a-spacing-none\"><span class=\"a-size-small a-color-secondary\">de </span><span class=\"a-size-small a-color-secondary\">Microsoft</span></div></div><div class=\"a-row\"><div class=\"a-column a-span7\"><div class=\"a-row a-spacing-none\"><a class=\"a-link-normal a-text-normal\" href=\"https://www.amazon.fr/Microsoft-Surface-Ordinateur-Portable-i7/dp/B0713RZCBV\"><span class=\"a-size-small a-color-secondary\"></span><span class=\"a-size-base a-color-price s-price a-text-bold\">EUR 1 249,56</span></a></div><div class=\"a-row a-spacing-mini\"><div class=\"a-row a-spacing-none\"><span class=\"a-size-small a-color-secondary\">Livraison GRATUITE</span></div></div><div class=\"a-row a-spacing-mini\"><div class=\"a-row a-spacing-none\"><div class=\"a-row a-spacing-mini\"></div><span class=\"a-size-small a-color-secondary\">Autres vendeurs sur Amazon</span></div><div class=\"a-row a-spacing-none\"><a class=\"a-size-small a-link-normal a-text-normal\" href=\"https://www.amazon.fr/gp/offer-listing/B0713RZCBV\"><span class=\"a-color-secondary a-text-strike\"></span><span class=\"a-size-base a-color-price a-text-bold\">EUR 1 249,00</span><span class=\"a-letter-space\"></span>(4 neufs)</a></div></div><div class=\"a-row a-spacing-mini\"><a class=\"a-link-emphasis a-text-normal\" href=\"https://www.amazon.fr/dp/B07ML3465T\">Voir un modèle plus récent de cet article</a></div></div><div class=\"a-column a-span5 a-span-last\"><div class=\"a-row a-spacing-mini\"><span name=\"B0713RZCBV\">\n",
       "<span class=\"a-declarative\" data-a-popover='{\"max-width\":\"700\",\"closeButton\":\"false\",\"position\":\"triggerBottom\",\"url\":\"/review/widgets/average-customer-review/popover/ref=acr_search__popover?ie=UTF8&amp;asin=B0713RZCBV&amp;contextId=search&amp;ref=acr_search__popover\"}' data-action=\"a-popover\"><a class=\"a-popover-trigger a-declarative\" href=\"javascript:void(0)\"><i class=\"a-icon a-icon-star a-star-4\"><span class=\"a-icon-alt\">4,1 étoiles sur 5</span></i><i class=\"a-icon a-icon-popover\"></i></a></span></span>\n",
       "<a class=\"a-size-small a-link-normal a-text-normal\" href=\"https://www.amazon.fr/Microsoft-Surface-Ordinateur-Portable-i7/dp/B0713RZCBV#customerReviews\">26</a></div></div></div></div></div></div></div>"
      ]
     },
     "execution_count": 17,
     "metadata": {},
     "output_type": "execute_result"
    }
   ],
   "source": [
    "first_product"
   ]
  },
  {
   "cell_type": "markdown",
   "metadata": {},
   "source": [
    "## Extacting data"
   ]
  },
  {
   "cell_type": "markdown",
   "metadata": {},
   "source": [
    "### Extracting the first product"
   ]
  },
  {
   "cell_type": "markdown",
   "metadata": {},
   "source": [
    "To simplify and verify our work , we'll start by only working with the first record of products"
   ]
  },
  {
   "cell_type": "code",
   "execution_count": 18,
   "metadata": {},
   "outputs": [],
   "source": [
    "first_product=products[0]"
   ]
  },
  {
   "cell_type": "markdown",
   "metadata": {},
   "source": [
    "#### The name of the product"
   ]
  },
  {
   "cell_type": "markdown",
   "metadata": {},
   "source": [
    "The **find** method returns first_result for the first instance of a h2 tag, and returns a Beautiful Soup \"Tag\" object."
   ]
  },
  {
   "cell_type": "code",
   "execution_count": 19,
   "metadata": {},
   "outputs": [],
   "source": [
    "Name = first_product.find('h2')"
   ]
  },
  {
   "cell_type": "markdown",
   "metadata": {},
   "source": [
    "To extract the text in between we use the attribute ***text*** and return a string"
   ]
  },
  {
   "cell_type": "code",
   "execution_count": 20,
   "metadata": {},
   "outputs": [
    {
     "data": {
      "text/plain": [
       "'Microsoft Surface Laptop Ordinateur Portable 13.5\" tactile (Core i7, RAM 8 Go, SSD 256 Go, Windows 10S) - Platine'"
      ]
     },
     "execution_count": 20,
     "metadata": {},
     "output_type": "execute_result"
    }
   ],
   "source": [
    "Name.text"
   ]
  },
  {
   "cell_type": "markdown",
   "metadata": {},
   "source": [
    "#### The brand of the product"
   ]
  },
  {
   "cell_type": "markdown",
   "metadata": {},
   "source": [
    "The ***findAll*** method returns all the results of the \\<span\\> tag into an itterable object"
   ]
  },
  {
   "cell_type": "code",
   "execution_count": 21,
   "metadata": {},
   "outputs": [],
   "source": [
    "brand=first_product.findAll('span',attrs={'class':\"a-size-small a-color-secondary\"})[1]"
   ]
  },
  {
   "cell_type": "markdown",
   "metadata": {},
   "source": [
    "Again, To extract the text in between we use the attribute text and return a string"
   ]
  },
  {
   "cell_type": "code",
   "execution_count": 22,
   "metadata": {},
   "outputs": [
    {
     "data": {
      "text/plain": [
       "'Microsoft'"
      ]
     },
     "execution_count": 22,
     "metadata": {},
     "output_type": "execute_result"
    }
   ],
   "source": [
    "brand.text"
   ]
  },
  {
   "cell_type": "markdown",
   "metadata": {},
   "source": [
    "#### The price of the product"
   ]
  },
  {
   "cell_type": "markdown",
   "metadata": {},
   "source": [
    "We would extract the prices from the soup and converted into float."
   ]
  },
  {
   "cell_type": "code",
   "execution_count": 23,
   "metadata": {},
   "outputs": [],
   "source": [
    "price=first_product.findAll('span',attrs={'class':\"a-size-base a-color-price a-text-bold\"})[0]\n"
   ]
  },
  {
   "cell_type": "markdown",
   "metadata": {},
   "source": [
    "Return the price only without the special character \\xa0"
   ]
  },
  {
   "cell_type": "code",
   "execution_count": 24,
   "metadata": {},
   "outputs": [],
   "source": [
    "price=price.text.replace(u'\\xa0', u'')[4:]"
   ]
  },
  {
   "cell_type": "markdown",
   "metadata": {},
   "source": [
    "Concerting the price into float format"
   ]
  },
  {
   "cell_type": "code",
   "execution_count": 25,
   "metadata": {},
   "outputs": [
    {
     "data": {
      "text/plain": [
       "1249.0"
      ]
     },
     "execution_count": 25,
     "metadata": {},
     "output_type": "execute_result"
    }
   ],
   "source": [
    "float(price.replace(',','.'))"
   ]
  },
  {
   "cell_type": "markdown",
   "metadata": {},
   "source": [
    "#### The brand of the product"
   ]
  },
  {
   "cell_type": "code",
   "execution_count": 26,
   "metadata": {},
   "outputs": [],
   "source": [
    "brand=first_product.findAll('span',attrs={'class':\"a-size-small a-color-secondary\"})[1]"
   ]
  },
  {
   "cell_type": "code",
   "execution_count": 27,
   "metadata": {},
   "outputs": [
    {
     "data": {
      "text/plain": [
       "'Microsoft'"
      ]
     },
     "execution_count": 27,
     "metadata": {},
     "output_type": "execute_result"
    }
   ],
   "source": [
    "brand.text"
   ]
  },
  {
   "cell_type": "markdown",
   "metadata": {},
   "source": [
    "#### The shippinp of the product"
   ]
  },
  {
   "cell_type": "code",
   "execution_count": 28,
   "metadata": {},
   "outputs": [],
   "source": [
    "shipping=first_product.findAll('span',attrs={'class':\"a-size-small a-color-secondary\"})[3]\n"
   ]
  },
  {
   "cell_type": "code",
   "execution_count": 29,
   "metadata": {},
   "outputs": [
    {
     "data": {
      "text/plain": [
       "'Livraison GRATUITE'"
      ]
     },
     "execution_count": 29,
     "metadata": {},
     "output_type": "execute_result"
    }
   ],
   "source": [
    "shipping.text"
   ]
  },
  {
   "cell_type": "markdown",
   "metadata": {},
   "source": [
    "#### The number of stars on the the products"
   ]
  },
  {
   "cell_type": "code",
   "execution_count": 64,
   "metadata": {},
   "outputs": [],
   "source": [
    "stars = (first_product.findAll(\"i\"))[1]"
   ]
  },
  {
   "cell_type": "code",
   "execution_count": 75,
   "metadata": {},
   "outputs": [
    {
     "data": {
      "text/plain": [
       "'4,1 étoiles sur 5'"
      ]
     },
     "execution_count": 75,
     "metadata": {},
     "output_type": "execute_result"
    }
   ],
   "source": [
    "stars[0].span.text"
   ]
  },
  {
   "cell_type": "markdown",
   "metadata": {},
   "source": [
    "#### The number of comments on the the products"
   ]
  },
  {
   "cell_type": "code",
   "execution_count": null,
   "metadata": {},
   "outputs": [],
   "source": [
    "<div class=\"a-row a-spacing-mini\"><span name=\"B07K69PCRK\">\n",
    "    <span class=\"a-declarative\" data-action=\"a-popover\" data-a-popover=\"{&quot;max-width&quot;:&quot;700&quot;,&quot;closeButton&quot;:&quot;false&quot;,&quot;position&quot;:&quot;triggerBottom&quot;,&quot;url&quot;:&quot;/review/widgets/average-customer-review/popover/ref=acr_search__popover?ie=UTF8&amp;asin=B07K69PCRK&amp;contextId=search&amp;ref=acr_search__popover&quot;}\"><a href=\"javascript:void(0)\" class=\"a-popover-trigger a-declarative\"><i class=\"a-icon a-icon-star a-star-3\"><span class=\"a-icon-alt\">3 étoiles sur 5</span></i><i class=\"a-icon a-icon-popover\"></i></a></span></span>\n",
    "\n",
    "<a class=\"a-size-small a-link-normal a-text-normal\" href=\"https://www.amazon.fr/PC-Ordinateur-Portable-Windows-10-14-Pouces-Laptop/dp/B07K69PCRK/ref=sr_1_4?ie=UTF8&amp;qid=1550677476&amp;sr=8-4&amp;keywords=Laptop#customerReviews\">12</a></div>"
   ]
  },
  {
   "cell_type": "code",
   "execution_count": 99,
   "metadata": {},
   "outputs": [],
   "source": [
    "number_comments=(products[1].findAll('div',attrs={'class':'a-row a-spacing-mini'}))"
   ]
  },
  {
   "cell_type": "code",
   "execution_count": 114,
   "metadata": {},
   "outputs": [
    {
     "data": {
      "text/plain": [
       "'12'"
      ]
     },
     "execution_count": 114,
     "metadata": {},
     "output_type": "execute_result"
    }
   ],
   "source": [
    "number_comments[1].findAll('a')[1].text"
   ]
  },
  {
   "cell_type": "code",
   "execution_count": 83,
   "metadata": {},
   "outputs": [
    {
     "data": {
      "text/plain": [
       "26"
      ]
     },
     "execution_count": 83,
     "metadata": {},
     "output_type": "execute_result"
    }
   ],
   "source": [
    "int(number_comments.text)"
   ]
  },
  {
   "cell_type": "markdown",
   "metadata": {},
   "source": [
    "###  Creating the dataset "
   ]
  },
  {
   "cell_type": "markdown",
   "metadata": {},
   "source": [
    "After dealing with our first products and collecting the information behind, we can continue and do the process over all the other products with a **loop** to repet the process over our soup and return a list of tuples called record \n"
   ]
  },
  {
   "cell_type": "code",
   "execution_count": null,
   "metadata": {},
   "outputs": [],
   "source": [
    "products[0]"
   ]
  },
  {
   "cell_type": "code",
   "execution_count": 136,
   "metadata": {},
   "outputs": [],
   "source": [
    "records=[]\n",
    "\n",
    "for product in products:\n",
    "    \n",
    "    try:\n",
    "        Name =(product.find('h2')).text\n",
    "    except:\n",
    "        pass\n",
    "    \n",
    "    try:\n",
    "        Brand=(product.findAll('span',attrs={'class':\"a-size-small a-color-secondary\"})[1]).text\n",
    "    except:\n",
    "        pass\n",
    "    \n",
    "    try:\n",
    "        Price=(product.findAll('span',attrs={'class':\"a-size-base a-color-price s-price a-text-bold\"})[0]).text.replace(u'\\xa0', u'')[4:]\n",
    "        Price=Price.replace(',','.')\n",
    "        \n",
    "    except:\n",
    "        pass\n",
    "    \n",
    "    try:\n",
    "        Shipping=(product.findAll('span',attrs={'class':\"a-size-small a-color-secondary\"})[3]).text\n",
    "        \n",
    "    except:\n",
    "        pass\n",
    "    \n",
    "    try: \n",
    "        \n",
    "        Customers_Reviews=(product.findAll(\"i\")[1]).span.text\n",
    "        \n",
    "    except:\n",
    "        pass\n",
    "    \n",
    "    try: \n",
    "        \n",
    "        Number_Reviews=(product.findAll('div',attrs={'class':'a-row a-spacing-mini'}))[1].findAll('a')[1].text\n",
    "        \n",
    "    except:\n",
    "        pass\n",
    "    \n",
    "   \n",
    "        \n",
    "    records.append((Name,Brand,Price,Shipping,Customers_Reviews,Number_Reviews))\n",
    "    "
   ]
  },
  {
   "cell_type": "markdown",
   "metadata": {},
   "source": [
    "Let's check our 3 first row of records"
   ]
  },
  {
   "cell_type": "code",
   "execution_count": 133,
   "metadata": {},
   "outputs": [
    {
     "data": {
      "text/plain": [
       "[('Microsoft Surface Laptop Ordinateur Portable 13.5\" tactile (Core i7, RAM 8 Go, SSD 256 Go, Windows 10S) - Platine',\n",
       "  'Microsoft',\n",
       "  '1249,56',\n",
       "  'Livraison GRATUITE',\n",
       "  '3,7 étoiles sur 5',\n",
       "  '27'),\n",
       " ('PC-Ordinateur Portable Windows-10 14-Pouces Laptop - Winnovo V146 Notebook 4 Go RAM+32 Go Stockage Intel Atom Quad Core Resolution de 1920x1080 FHD WiFi Bluetooth Mini HDMI Intel HD Graphics (Argent)',\n",
       "  'Winnovo',\n",
       "  '189,99',\n",
       "  'Livraison gratuite possible (voir fiche produit).',\n",
       "  '3 étoiles sur 5',\n",
       "  '12'),\n",
       " ('Microsoft Surface Laptop Ordinateur Portable 13.5\" tactile (Core i5, RAM 8 Go, SSD 128 Go, Windows 10) - Platine - Clavier AZERTY français',\n",
       "  'Microsoft',\n",
       "  '1049,99',\n",
       "  'Livraison gratuite possible (voir fiche produit).',\n",
       "  '4,1 étoiles sur 5',\n",
       "  '26')]"
      ]
     },
     "execution_count": 133,
     "metadata": {},
     "output_type": "execute_result"
    }
   ],
   "source": [
    "records[0:3]"
   ]
  },
  {
   "cell_type": "markdown",
   "metadata": {},
   "source": [
    "## Creating the DataSet inti **DataFrame**"
   ]
  },
  {
   "cell_type": "markdown",
   "metadata": {},
   "source": [
    "After we create our list of tuples, we can transform it into a data frame using Pandas Library"
   ]
  },
  {
   "cell_type": "code",
   "execution_count": 137,
   "metadata": {},
   "outputs": [],
   "source": [
    "import pandas as pd\n",
    "data = pd.DataFrame(records, columns=['Name','Brand','Price','Shipping','Customers_Reviews','Number_Reviews'])"
   ]
  },
  {
   "cell_type": "markdown",
   "metadata": {},
   "source": [
    "The head of our DataFrame"
   ]
  },
  {
   "cell_type": "code",
   "execution_count": 138,
   "metadata": {},
   "outputs": [
    {
     "data": {
      "text/html": [
       "<div>\n",
       "<style scoped>\n",
       "    .dataframe tbody tr th:only-of-type {\n",
       "        vertical-align: middle;\n",
       "    }\n",
       "\n",
       "    .dataframe tbody tr th {\n",
       "        vertical-align: top;\n",
       "    }\n",
       "\n",
       "    .dataframe thead th {\n",
       "        text-align: right;\n",
       "    }\n",
       "</style>\n",
       "<table border=\"1\" class=\"dataframe\">\n",
       "  <thead>\n",
       "    <tr style=\"text-align: right;\">\n",
       "      <th></th>\n",
       "      <th>Name</th>\n",
       "      <th>Brand</th>\n",
       "      <th>Price</th>\n",
       "      <th>Shipping</th>\n",
       "      <th>Customers_Reviews</th>\n",
       "      <th>Number_Reviews</th>\n",
       "    </tr>\n",
       "  </thead>\n",
       "  <tbody>\n",
       "    <tr>\n",
       "      <th>0</th>\n",
       "      <td>Microsoft Surface Laptop Ordinateur Portable 1...</td>\n",
       "      <td>Microsoft</td>\n",
       "      <td>1249.56</td>\n",
       "      <td>Livraison GRATUITE</td>\n",
       "      <td>3,7 étoiles sur 5</td>\n",
       "      <td>27</td>\n",
       "    </tr>\n",
       "    <tr>\n",
       "      <th>1</th>\n",
       "      <td>PC-Ordinateur Portable Windows-10 14-Pouces La...</td>\n",
       "      <td>Winnovo</td>\n",
       "      <td>189.99</td>\n",
       "      <td>Livraison gratuite possible (voir fiche produit).</td>\n",
       "      <td>3 étoiles sur 5</td>\n",
       "      <td>12</td>\n",
       "    </tr>\n",
       "    <tr>\n",
       "      <th>2</th>\n",
       "      <td>Microsoft Surface Laptop Ordinateur Portable 1...</td>\n",
       "      <td>Microsoft</td>\n",
       "      <td>1049.99</td>\n",
       "      <td>Livraison gratuite possible (voir fiche produit).</td>\n",
       "      <td>4,1 étoiles sur 5</td>\n",
       "      <td>26</td>\n",
       "    </tr>\n",
       "    <tr>\n",
       "      <th>3</th>\n",
       "      <td>Acer Aspire ES1-732-P6XT PC Portable 17,3\" HD ...</td>\n",
       "      <td>Acer</td>\n",
       "      <td>386.00</td>\n",
       "      <td>Livraison gratuite possible (voir fiche produit).</td>\n",
       "      <td>3,3 étoiles sur 5</td>\n",
       "      <td>34</td>\n",
       "    </tr>\n",
       "    <tr>\n",
       "      <th>4</th>\n",
       "      <td>Lenovo Legion Y520-15IKBN Ordinateur Portable ...</td>\n",
       "      <td>Lenovo</td>\n",
       "      <td>849.00</td>\n",
       "      <td>Livraison gratuite possible (voir fiche produit).</td>\n",
       "      <td>4,1 étoiles sur 5</td>\n",
       "      <td>34</td>\n",
       "    </tr>\n",
       "  </tbody>\n",
       "</table>\n",
       "</div>"
      ],
      "text/plain": [
       "                                                Name      Brand    Price  \\\n",
       "0  Microsoft Surface Laptop Ordinateur Portable 1...  Microsoft  1249.56   \n",
       "1  PC-Ordinateur Portable Windows-10 14-Pouces La...    Winnovo   189.99   \n",
       "2  Microsoft Surface Laptop Ordinateur Portable 1...  Microsoft  1049.99   \n",
       "3  Acer Aspire ES1-732-P6XT PC Portable 17,3\" HD ...       Acer   386.00   \n",
       "4  Lenovo Legion Y520-15IKBN Ordinateur Portable ...     Lenovo   849.00   \n",
       "\n",
       "                                            Shipping  Customers_Reviews  \\\n",
       "0                                 Livraison GRATUITE  3,7 étoiles sur 5   \n",
       "1  Livraison gratuite possible (voir fiche produit).    3 étoiles sur 5   \n",
       "2  Livraison gratuite possible (voir fiche produit).  4,1 étoiles sur 5   \n",
       "3  Livraison gratuite possible (voir fiche produit).  3,3 étoiles sur 5   \n",
       "4  Livraison gratuite possible (voir fiche produit).  4,1 étoiles sur 5   \n",
       "\n",
       "  Number_Reviews  \n",
       "0             27  \n",
       "1             12  \n",
       "2             26  \n",
       "3             34  \n",
       "4             34  "
      ]
     },
     "execution_count": 138,
     "metadata": {},
     "output_type": "execute_result"
    }
   ],
   "source": [
    "data.head()\n"
   ]
  },
  {
   "cell_type": "markdown",
   "metadata": {},
   "source": [
    "Changing the price and the number of object to float for later comparison"
   ]
  },
  {
   "cell_type": "code",
   "execution_count": 140,
   "metadata": {},
   "outputs": [],
   "source": [
    "data['Price']=data['Price'].astype(np.float)\n",
    "data['Number_Reviews']=data['Number_Reviews'].astype(np.float)"
   ]
  },
  {
   "cell_type": "code",
   "execution_count": 141,
   "metadata": {},
   "outputs": [
    {
     "data": {
      "text/html": [
       "<div>\n",
       "<style scoped>\n",
       "    .dataframe tbody tr th:only-of-type {\n",
       "        vertical-align: middle;\n",
       "    }\n",
       "\n",
       "    .dataframe tbody tr th {\n",
       "        vertical-align: top;\n",
       "    }\n",
       "\n",
       "    .dataframe thead th {\n",
       "        text-align: right;\n",
       "    }\n",
       "</style>\n",
       "<table border=\"1\" class=\"dataframe\">\n",
       "  <thead>\n",
       "    <tr style=\"text-align: right;\">\n",
       "      <th></th>\n",
       "      <th>Name</th>\n",
       "      <th>Brand</th>\n",
       "      <th>Price</th>\n",
       "      <th>Shipping</th>\n",
       "      <th>Customers_Reviews</th>\n",
       "      <th>Number_Reviews</th>\n",
       "    </tr>\n",
       "  </thead>\n",
       "  <tbody>\n",
       "    <tr>\n",
       "      <th>0</th>\n",
       "      <td>Microsoft Surface Laptop Ordinateur Portable 1...</td>\n",
       "      <td>Microsoft</td>\n",
       "      <td>1249.56</td>\n",
       "      <td>Livraison GRATUITE</td>\n",
       "      <td>3,7 étoiles sur 5</td>\n",
       "      <td>27.0</td>\n",
       "    </tr>\n",
       "    <tr>\n",
       "      <th>1</th>\n",
       "      <td>PC-Ordinateur Portable Windows-10 14-Pouces La...</td>\n",
       "      <td>Winnovo</td>\n",
       "      <td>189.99</td>\n",
       "      <td>Livraison gratuite possible (voir fiche produit).</td>\n",
       "      <td>3 étoiles sur 5</td>\n",
       "      <td>12.0</td>\n",
       "    </tr>\n",
       "    <tr>\n",
       "      <th>2</th>\n",
       "      <td>Microsoft Surface Laptop Ordinateur Portable 1...</td>\n",
       "      <td>Microsoft</td>\n",
       "      <td>1049.99</td>\n",
       "      <td>Livraison gratuite possible (voir fiche produit).</td>\n",
       "      <td>4,1 étoiles sur 5</td>\n",
       "      <td>26.0</td>\n",
       "    </tr>\n",
       "    <tr>\n",
       "      <th>3</th>\n",
       "      <td>Acer Aspire ES1-732-P6XT PC Portable 17,3\" HD ...</td>\n",
       "      <td>Acer</td>\n",
       "      <td>386.00</td>\n",
       "      <td>Livraison gratuite possible (voir fiche produit).</td>\n",
       "      <td>3,3 étoiles sur 5</td>\n",
       "      <td>34.0</td>\n",
       "    </tr>\n",
       "    <tr>\n",
       "      <th>4</th>\n",
       "      <td>Lenovo Legion Y520-15IKBN Ordinateur Portable ...</td>\n",
       "      <td>Lenovo</td>\n",
       "      <td>849.00</td>\n",
       "      <td>Livraison gratuite possible (voir fiche produit).</td>\n",
       "      <td>4,1 étoiles sur 5</td>\n",
       "      <td>34.0</td>\n",
       "    </tr>\n",
       "  </tbody>\n",
       "</table>\n",
       "</div>"
      ],
      "text/plain": [
       "                                                Name      Brand    Price  \\\n",
       "0  Microsoft Surface Laptop Ordinateur Portable 1...  Microsoft  1249.56   \n",
       "1  PC-Ordinateur Portable Windows-10 14-Pouces La...    Winnovo   189.99   \n",
       "2  Microsoft Surface Laptop Ordinateur Portable 1...  Microsoft  1049.99   \n",
       "3  Acer Aspire ES1-732-P6XT PC Portable 17,3\" HD ...       Acer   386.00   \n",
       "4  Lenovo Legion Y520-15IKBN Ordinateur Portable ...     Lenovo   849.00   \n",
       "\n",
       "                                            Shipping  Customers_Reviews  \\\n",
       "0                                 Livraison GRATUITE  3,7 étoiles sur 5   \n",
       "1  Livraison gratuite possible (voir fiche produit).    3 étoiles sur 5   \n",
       "2  Livraison gratuite possible (voir fiche produit).  4,1 étoiles sur 5   \n",
       "3  Livraison gratuite possible (voir fiche produit).  3,3 étoiles sur 5   \n",
       "4  Livraison gratuite possible (voir fiche produit).  4,1 étoiles sur 5   \n",
       "\n",
       "   Number_Reviews  \n",
       "0            27.0  \n",
       "1            12.0  \n",
       "2            26.0  \n",
       "3            34.0  \n",
       "4            34.0  "
      ]
     },
     "execution_count": 141,
     "metadata": {},
     "output_type": "execute_result"
    }
   ],
   "source": [
    "data.head()"
   ]
  },
  {
   "cell_type": "markdown",
   "metadata": {},
   "source": [
    "## Creating and storing the **CSV** file"
   ]
  },
  {
   "cell_type": "markdown",
   "metadata": {},
   "source": [
    "Finally, we will export our dataset into csv file so we can store it and reuse it for later analysis"
   ]
  },
  {
   "cell_type": "code",
   "execution_count": 143,
   "metadata": {},
   "outputs": [],
   "source": [
    "data.to_csv(\"amazon_laptop\",index=False,encoding='utf-8')"
   ]
  },
  {
   "cell_type": "markdown",
   "metadata": {},
   "source": [
    "Readind the csv file "
   ]
  },
  {
   "cell_type": "code",
   "execution_count": 144,
   "metadata": {},
   "outputs": [],
   "source": [
    "data = pd.read_csv(\"amazon_laptop\")"
   ]
  },
  {
   "cell_type": "markdown",
   "metadata": {},
   "source": [
    "We have the same dataFrame as before"
   ]
  },
  {
   "cell_type": "code",
   "execution_count": 146,
   "metadata": {},
   "outputs": [
    {
     "data": {
      "text/html": [
       "<div>\n",
       "<style scoped>\n",
       "    .dataframe tbody tr th:only-of-type {\n",
       "        vertical-align: middle;\n",
       "    }\n",
       "\n",
       "    .dataframe tbody tr th {\n",
       "        vertical-align: top;\n",
       "    }\n",
       "\n",
       "    .dataframe thead th {\n",
       "        text-align: right;\n",
       "    }\n",
       "</style>\n",
       "<table border=\"1\" class=\"dataframe\">\n",
       "  <thead>\n",
       "    <tr style=\"text-align: right;\">\n",
       "      <th></th>\n",
       "      <th>Name</th>\n",
       "      <th>Brand</th>\n",
       "      <th>Price</th>\n",
       "      <th>Shipping</th>\n",
       "      <th>Customers_Reviews</th>\n",
       "      <th>Number_Reviews</th>\n",
       "    </tr>\n",
       "  </thead>\n",
       "  <tbody>\n",
       "    <tr>\n",
       "      <th>0</th>\n",
       "      <td>Microsoft Surface Laptop Ordinateur Portable 1...</td>\n",
       "      <td>Microsoft</td>\n",
       "      <td>1249.56</td>\n",
       "      <td>Livraison GRATUITE</td>\n",
       "      <td>3,7 étoiles sur 5</td>\n",
       "      <td>27.0</td>\n",
       "    </tr>\n",
       "    <tr>\n",
       "      <th>1</th>\n",
       "      <td>PC-Ordinateur Portable Windows-10 14-Pouces La...</td>\n",
       "      <td>Winnovo</td>\n",
       "      <td>189.99</td>\n",
       "      <td>Livraison gratuite possible (voir fiche produit).</td>\n",
       "      <td>3 étoiles sur 5</td>\n",
       "      <td>12.0</td>\n",
       "    </tr>\n",
       "    <tr>\n",
       "      <th>2</th>\n",
       "      <td>Microsoft Surface Laptop Ordinateur Portable 1...</td>\n",
       "      <td>Microsoft</td>\n",
       "      <td>1049.99</td>\n",
       "      <td>Livraison gratuite possible (voir fiche produit).</td>\n",
       "      <td>4,1 étoiles sur 5</td>\n",
       "      <td>26.0</td>\n",
       "    </tr>\n",
       "    <tr>\n",
       "      <th>3</th>\n",
       "      <td>Acer Aspire ES1-732-P6XT PC Portable 17,3\" HD ...</td>\n",
       "      <td>Acer</td>\n",
       "      <td>386.00</td>\n",
       "      <td>Livraison gratuite possible (voir fiche produit).</td>\n",
       "      <td>3,3 étoiles sur 5</td>\n",
       "      <td>34.0</td>\n",
       "    </tr>\n",
       "    <tr>\n",
       "      <th>4</th>\n",
       "      <td>Lenovo Legion Y520-15IKBN Ordinateur Portable ...</td>\n",
       "      <td>Lenovo</td>\n",
       "      <td>849.00</td>\n",
       "      <td>Livraison gratuite possible (voir fiche produit).</td>\n",
       "      <td>4,1 étoiles sur 5</td>\n",
       "      <td>34.0</td>\n",
       "    </tr>\n",
       "  </tbody>\n",
       "</table>\n",
       "</div>"
      ],
      "text/plain": [
       "                                                Name      Brand    Price  \\\n",
       "0  Microsoft Surface Laptop Ordinateur Portable 1...  Microsoft  1249.56   \n",
       "1  PC-Ordinateur Portable Windows-10 14-Pouces La...    Winnovo   189.99   \n",
       "2  Microsoft Surface Laptop Ordinateur Portable 1...  Microsoft  1049.99   \n",
       "3  Acer Aspire ES1-732-P6XT PC Portable 17,3\" HD ...       Acer   386.00   \n",
       "4  Lenovo Legion Y520-15IKBN Ordinateur Portable ...     Lenovo   849.00   \n",
       "\n",
       "                                            Shipping  Customers_Reviews  \\\n",
       "0                                 Livraison GRATUITE  3,7 étoiles sur 5   \n",
       "1  Livraison gratuite possible (voir fiche produit).    3 étoiles sur 5   \n",
       "2  Livraison gratuite possible (voir fiche produit).  4,1 étoiles sur 5   \n",
       "3  Livraison gratuite possible (voir fiche produit).  3,3 étoiles sur 5   \n",
       "4  Livraison gratuite possible (voir fiche produit).  4,1 étoiles sur 5   \n",
       "\n",
       "   Number_Reviews  \n",
       "0            27.0  \n",
       "1            12.0  \n",
       "2            26.0  \n",
       "3            34.0  \n",
       "4            34.0  "
      ]
     },
     "execution_count": 146,
     "metadata": {},
     "output_type": "execute_result"
    }
   ],
   "source": [
    "data.head()"
   ]
  },
  {
   "cell_type": "markdown",
   "metadata": {},
   "source": [
    "## Analysis an Visualization (Optional)"
   ]
  },
  {
   "cell_type": "code",
   "execution_count": 189,
   "metadata": {},
   "outputs": [
    {
     "data": {
      "text/plain": [
       "Brand\n",
       "Acer         1102.94\n",
       "Asus          939.00\n",
       "CHUWI         399.00\n",
       "Dell          989.95\n",
       "HP            274.00\n",
       "Lenovo        849.00\n",
       "MOERUN         39.99\n",
       "Microsoft    1449.00\n",
       "OYYU          252.00\n",
       "Winnovo       189.99\n",
       "Name: Price, dtype: float64"
      ]
     },
     "execution_count": 189,
     "metadata": {},
     "output_type": "execute_result"
    }
   ],
   "source": [
    "data['Price'].groupby(data['Brand']).max()"
   ]
  },
  {
   "cell_type": "code",
   "execution_count": 227,
   "metadata": {},
   "outputs": [
    {
     "name": "stdout",
     "output_type": "stream",
     "text": [
      "Warning: Cannot change to a different GUI toolkit: notebook. Using qt instead.\n"
     ]
    }
   ],
   "source": [
    "\n",
    "%matplotlib notebook\n",
    "import matplotlib.pyplot as plt\n"
   ]
  },
  {
   "cell_type": "markdown",
   "metadata": {},
   "source": [
    "We will analyis and visulise the highest prices of laptops by brand in our dataframe"
   ]
  },
  {
   "cell_type": "markdown",
   "metadata": {},
   "source": [
    "### Simple Way"
   ]
  },
  {
   "cell_type": "code",
   "execution_count": 236,
   "metadata": {},
   "outputs": [],
   "source": [
    "X=data['Price'].groupby(data['Brand']).max().index\n",
    "\n",
    "Y=data['Price'].groupby(data['Brand']).max()\n",
    "\n",
    "plt.figure()\n",
    "\n",
    "bars=plt.bar(X, Y,width=0.6,linewidth=0, color='lightslategrey')\n"
   ]
  },
  {
   "cell_type": "code",
   "execution_count": 238,
   "metadata": {},
   "outputs": [
    {
     "data": {
      "text/html": [
       "<img src=\"Figure_2.png\",width=60,height=60>\n",
       "Visualization fo the highest laptop's price on amazon"
      ],
      "text/plain": [
       "<IPython.core.display.HTML object>"
      ]
     },
     "metadata": {},
     "output_type": "display_data"
    }
   ],
   "source": [
    "%%html\n",
    "<img src=\"Figure_2.png\",width=60,height=60>\n",
    "Visualization fo the highest laptop's price on amazon"
   ]
  },
  {
   "cell_type": "markdown",
   "metadata": {},
   "source": [
    "### Dejunkful way "
   ]
  },
  {
   "cell_type": "code",
   "execution_count": 234,
   "metadata": {},
   "outputs": [
    {
     "name": "stderr",
     "output_type": "stream",
     "text": [
      "C:\\Users\\asus\\Anaconda3\\lib\\site-packages\\matplotlib\\cbook\\deprecation.py:107: MatplotlibDeprecationWarning: Adding an axes using the same arguments as a previous axes currently reuses the earlier instance.  In a future version, a new instance will always be created and returned.  Meanwhile, this warning can be suppressed, and the future behavior ensured, by passing a unique label to each axes instance.\n",
      "  warnings.warn(message, mplDeprecation, stacklevel=1)\n",
      "C:\\Users\\asus\\Anaconda3\\lib\\site-packages\\matplotlib\\cbook\\deprecation.py:107: MatplotlibDeprecationWarning: Passing one of 'on', 'true', 'off', 'false' as a boolean is deprecated; use an actual boolean (True/False) instead.\n",
      "  warnings.warn(message, mplDeprecation, stacklevel=1)\n"
     ]
    }
   ],
   "source": [
    "X=data['Price'].groupby(data['Brand']).max().index\n",
    "\n",
    "Y=data['Price'].groupby(data['Brand']).max()\n",
    "\n",
    "plt.figure()\n",
    "\n",
    "\n",
    "bars=plt.bar(X, Y,width=0.6,linewidth=0, color='lightslategrey')\n",
    "\n",
    "\n",
    "\n",
    "pos= np.arange(len(X))\n",
    "ax = plt.axes()\n",
    "\n",
    "plt.yticks([])\n",
    "plt.tick_params(top='off', bottom='off', left='off', right='off', labelleft='off', labelbottom='on')\n",
    "\n",
    "plt.subplots_adjust(bottom=0.15)\n",
    "\n",
    "ax.spines['top'].set_visible(False)\n",
    "ax.spines['right'].set_visible(False)\n",
    "ax.spines['bottom'].set_visible(False)\n",
    "ax.spines['left'].set_visible(False)\n",
    "\n",
    "plt.tick_params(top='off', bottom='off', left='off', right='off', labelleft='on', labelbottom='on')\n",
    "\n",
    "x=plt.gca().xaxis\n",
    "for item in x.get_ticklabels():\n",
    "    item.set_rotation(35)\n",
    "    \n",
    "plt.ylabel('Price (Eur)',alpha=0.6)\n",
    "plt.title(\"The Highest Laptop's Price by Brand on Amazon\", alpha=0.8)\n",
    "plt.xticks(pos, X,alpha=0.8)\n",
    "\n",
    "for bar in bars:\n",
    "    plt.gca().text(bar.get_x() + bar.get_width()/2, bar.get_height() - 40, str(int(bar.get_height()))  , \n",
    "                 ha='center', color='w', fontsize=8)\n",
    "    \n",
    "bars[7].set_color('#1F77B4')\n",
    "\n",
    "\n"
   ]
  },
  {
   "cell_type": "code",
   "execution_count": 235,
   "metadata": {},
   "outputs": [
    {
     "data": {
      "text/html": [
       "<img src=\"Figure_1.png\",width=60,height=60>\n",
       "Visualization fo the highest laptop's price on amazon"
      ],
      "text/plain": [
       "<IPython.core.display.HTML object>"
      ]
     },
     "metadata": {},
     "output_type": "display_data"
    }
   ],
   "source": [
    "%%html\n",
    "<img src=\"Figure_1.png\",width=60,height=60>\n",
    "Visualization fo the highest laptop's price on amazon"
   ]
  },
  {
   "cell_type": "code",
   "execution_count": null,
   "metadata": {},
   "outputs": [],
   "source": []
  }
 ],
 "metadata": {
  "kernelspec": {
   "display_name": "Python 3",
   "language": "python",
   "name": "python3"
  },
  "language_info": {
   "codemirror_mode": {
    "name": "ipython",
    "version": 3
   },
   "file_extension": ".py",
   "mimetype": "text/x-python",
   "name": "python",
   "nbconvert_exporter": "python",
   "pygments_lexer": "ipython3",
   "version": "3.7.0"
  }
 },
 "nbformat": 4,
 "nbformat_minor": 2
}
